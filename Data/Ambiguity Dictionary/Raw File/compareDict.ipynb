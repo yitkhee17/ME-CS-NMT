{
  "nbformat": 4,
  "nbformat_minor": 0,
  "metadata": {
    "colab": {
      "provenance": []
    },
    "kernelspec": {
      "name": "python3",
      "display_name": "Python 3"
    },
    "language_info": {
      "name": "python"
    }
  },
  "cells": [
    {
      "cell_type": "markdown",
      "source": [
        "# List 1\n",
        "en_words_dictionary.json\n",
        "\n",
        "ms_MY.dic"
      ],
      "metadata": {
        "id": "ehDkt8ip5fwB"
      }
    },
    {
      "cell_type": "code",
      "execution_count": null,
      "metadata": {
        "colab": {
          "base_uri": "https://localhost:8080/"
        },
        "id": "6xBl54JNzBMP",
        "outputId": "6adf66a0-61a5-4b6b-bce3-27716e6310e7"
      },
      "outputs": [
        {
          "output_type": "stream",
          "name": "stdout",
          "text": [
            "Mounted at /content/drive\n"
          ]
        }
      ],
      "source": [
        "from google.colab import drive\n",
        "drive.mount('/content/drive')"
      ]
    },
    {
      "cell_type": "code",
      "source": [
        "import pandas as pd\n",
        "import numpy as np"
      ],
      "metadata": {
        "id": "xTY514Dz0UyV"
      },
      "execution_count": null,
      "outputs": []
    },
    {
      "cell_type": "code",
      "source": [
        "import json\n",
        "with open('/content/drive/MyDrive/PhD/Research/Dictionary/en_words_dictionary.json') as json_file:\n",
        "    temp = json.load(json_file)\n",
        "en_dict = list(temp.keys())"
      ],
      "metadata": {
        "id": "td-LJiyFzn44"
      },
      "execution_count": null,
      "outputs": []
    },
    {
      "cell_type": "code",
      "source": [
        "with open('/content/drive/MyDrive/PhD/Research/Dictionary/ms_MY.dic') as file:\n",
        "    mn_dict = [line.rstrip().partition('/')[0] for line in file]"
      ],
      "metadata": {
        "id": "AFhTCmqQ0Zml"
      },
      "execution_count": null,
      "outputs": []
    },
    {
      "cell_type": "code",
      "source": [
        "en_dict[:10]"
      ],
      "metadata": {
        "colab": {
          "base_uri": "https://localhost:8080/"
        },
        "id": "AjU6ox762ln2",
        "outputId": "a160d53a-a423-471b-b28d-f5b9099da89b"
      },
      "execution_count": null,
      "outputs": [
        {
          "output_type": "execute_result",
          "data": {
            "text/plain": [
              "['a', 'aa', 'aaa', 'aah', 'aahed', 'aahing', 'aahs', 'aal', 'aalii', 'aaliis']"
            ]
          },
          "metadata": {},
          "execution_count": 35
        }
      ]
    },
    {
      "cell_type": "code",
      "source": [
        "len(en_dict)"
      ],
      "metadata": {
        "colab": {
          "base_uri": "https://localhost:8080/"
        },
        "id": "1LUo2ecj5JyO",
        "outputId": "cc53495e-4651-4864-9b49-9a118b45796d"
      },
      "execution_count": null,
      "outputs": [
        {
          "output_type": "execute_result",
          "data": {
            "text/plain": [
              "370101"
            ]
          },
          "metadata": {},
          "execution_count": 30
        }
      ]
    },
    {
      "cell_type": "code",
      "source": [
        "mn_dict = mn_dict[1:]"
      ],
      "metadata": {
        "id": "MX7i7Km-4aWX"
      },
      "execution_count": null,
      "outputs": []
    },
    {
      "cell_type": "code",
      "source": [
        "mn_dict[0:5]"
      ],
      "metadata": {
        "colab": {
          "base_uri": "https://localhost:8080/"
        },
        "id": "4Ep8__mi9MOL",
        "outputId": "ccb6159f-4931-4ebe-f45f-2d6851427ce3"
      },
      "execution_count": null,
      "outputs": [
        {
          "output_type": "execute_result",
          "data": {
            "text/plain": [
              "['a', 'A.A.', 'AA', 'A.B.', 'AB']"
            ]
          },
          "metadata": {},
          "execution_count": 66
        }
      ]
    },
    {
      "cell_type": "code",
      "source": [
        "len(mn_dict)"
      ],
      "metadata": {
        "colab": {
          "base_uri": "https://localhost:8080/"
        },
        "id": "-EEBaYRS5RlH",
        "outputId": "eeca95df-754f-4db0-ef20-5940e8bc8f5d"
      },
      "execution_count": null,
      "outputs": [
        {
          "output_type": "execute_result",
          "data": {
            "text/plain": [
              "30856"
            ]
          },
          "metadata": {},
          "execution_count": 69
        }
      ]
    },
    {
      "cell_type": "code",
      "source": [
        "amb = list(set(mn_dict) & set(en_dict))"
      ],
      "metadata": {
        "id": "Vzj1h0oG5X11"
      },
      "execution_count": null,
      "outputs": []
    },
    {
      "cell_type": "code",
      "source": [
        "len(amb)"
      ],
      "metadata": {
        "colab": {
          "base_uri": "https://localhost:8080/"
        },
        "id": "hfFOjrtJ66iP",
        "outputId": "8af54ae7-474d-4a15-a3cb-16f696a4182a"
      },
      "execution_count": null,
      "outputs": [
        {
          "output_type": "execute_result",
          "data": {
            "text/plain": [
              "3707"
            ]
          },
          "metadata": {},
          "execution_count": 71
        }
      ]
    },
    {
      "cell_type": "code",
      "source": [
        "amb.sort()"
      ],
      "metadata": {
        "id": "w8PblZRR_DTb"
      },
      "execution_count": null,
      "outputs": []
    },
    {
      "cell_type": "code",
      "source": [
        "with open('/content/drive/MyDrive/PhD/Research/Dictionary/sorted_amb_from_dict.txt', 'w') as f:\n",
        "    for line in amb:\n",
        "        f.write(\"%s\\n\" % line)"
      ],
      "metadata": {
        "id": "9tlMf1Gj-rGH"
      },
      "execution_count": null,
      "outputs": []
    },
    {
      "cell_type": "markdown",
      "source": [
        "# List 2\n",
        "english-words (package)\n",
        "\n",
        "ms_MY.dic"
      ],
      "metadata": {
        "id": "9WccnqwO6wTi"
      }
    },
    {
      "cell_type": "code",
      "source": [
        "pip install english-words\n"
      ],
      "metadata": {
        "colab": {
          "base_uri": "https://localhost:8080/"
        },
        "id": "KgMgqnPEAoin",
        "outputId": "b5245d11-b52d-4c95-ab6b-cc177673112f"
      },
      "execution_count": null,
      "outputs": [
        {
          "output_type": "stream",
          "name": "stdout",
          "text": [
            "Collecting english-words\n",
            "  Downloading english-words-2.0.1.tar.gz (8.2 MB)\n",
            "\u001b[2K     \u001b[90m━━━━━━━━━━━━━━━━━━━━━━━━━━━━━━━━━━━━━━━━\u001b[0m \u001b[32m8.2/8.2 MB\u001b[0m \u001b[31m43.1 MB/s\u001b[0m eta \u001b[36m0:00:00\u001b[0m\n",
            "\u001b[?25h  Installing build dependencies ... \u001b[?25l\u001b[?25hdone\n",
            "  Getting requirements to build wheel ... \u001b[?25l\u001b[?25hdone\n",
            "  Preparing metadata (pyproject.toml) ... \u001b[?25l\u001b[?25hdone\n",
            "Building wheels for collected packages: english-words\n",
            "  Building wheel for english-words (pyproject.toml) ... \u001b[?25l\u001b[?25hdone\n",
            "  Created wheel for english-words: filename=english_words-2.0.1-py3-none-any.whl size=8196240 sha256=dc3afd7d1b192aea4ad0ee43972f97f72909d8d38590407d81867ddc1c61d1a1\n",
            "  Stored in directory: /root/.cache/pip/wheels/f0/e6/d9/16a123647999fe535f03a36e7af23eef203736d84c7ca25b0b\n",
            "Successfully built english-words\n",
            "Installing collected packages: english-words\n",
            "Successfully installed english-words-2.0.1\n"
          ]
        }
      ]
    },
    {
      "cell_type": "code",
      "source": [
        "from english_words import get_english_words_set"
      ],
      "metadata": {
        "id": "ihFrosg0A4FH"
      },
      "execution_count": null,
      "outputs": []
    },
    {
      "cell_type": "code",
      "source": [
        "web2lowerset = get_english_words_set(['web2'], lower=True)\n"
      ],
      "metadata": {
        "id": "4EF2q3WJA73v"
      },
      "execution_count": null,
      "outputs": []
    },
    {
      "cell_type": "code",
      "source": [
        "len(list(web2lowerset))"
      ],
      "metadata": {
        "colab": {
          "base_uri": "https://localhost:8080/"
        },
        "id": "B8m64n6ZBA7X",
        "outputId": "21d06019-2a86-4178-f5ba-2e0ad9782e21"
      },
      "execution_count": null,
      "outputs": [
        {
          "output_type": "execute_result",
          "data": {
            "text/plain": [
              "234450"
            ]
          },
          "metadata": {},
          "execution_count": 85
        }
      ]
    },
    {
      "cell_type": "code",
      "source": [
        "amb2 = list(set(web2lowerset) & set(mn_dict))"
      ],
      "metadata": {
        "id": "mtxttLR5BORG"
      },
      "execution_count": null,
      "outputs": []
    },
    {
      "cell_type": "code",
      "source": [
        "len(amb2)"
      ],
      "metadata": {
        "colab": {
          "base_uri": "https://localhost:8080/"
        },
        "id": "aHd_J5F6BWUL",
        "outputId": "c5b105cc-fc1f-492f-ad91-25f2a2255094"
      },
      "execution_count": null,
      "outputs": [
        {
          "output_type": "execute_result",
          "data": {
            "text/plain": [
              "3027"
            ]
          },
          "metadata": {},
          "execution_count": 87
        }
      ]
    },
    {
      "cell_type": "code",
      "source": [
        "amb2.sort()"
      ],
      "metadata": {
        "id": "TVlly2DB7A8f"
      },
      "execution_count": null,
      "outputs": []
    },
    {
      "cell_type": "code",
      "source": [
        "with open('/content/drive/MyDrive/PhD/Research/Dictionary/sorted_amb2_from_dict.txt', 'w') as f:\n",
        "    for line in amb2:\n",
        "        f.write(\"%s\\n\" % line)"
      ],
      "metadata": {
        "id": "O1o709B-7JDs"
      },
      "execution_count": null,
      "outputs": []
    },
    {
      "cell_type": "code",
      "source": [
        "extra1 = set(amb2) - set(amb)\n",
        "extra2 = set(amb) - set(amb2)"
      ],
      "metadata": {
        "id": "cT9y5l1iCHzK"
      },
      "execution_count": null,
      "outputs": []
    },
    {
      "cell_type": "code",
      "source": [
        "extra1"
      ],
      "metadata": {
        "colab": {
          "base_uri": "https://localhost:8080/"
        },
        "id": "G7LcAZhmCz_v",
        "outputId": "fb1fa69b-4770-418d-c9c6-13f7dca53b91"
      },
      "execution_count": null,
      "outputs": [
        {
          "output_type": "execute_result",
          "data": {
            "text/plain": [
              "set()"
            ]
          },
          "metadata": {},
          "execution_count": 89
        }
      ]
    },
    {
      "cell_type": "code",
      "source": [
        "extra2"
      ],
      "metadata": {
        "colab": {
          "base_uri": "https://localhost:8080/"
        },
        "id": "vB5i4SGaC2Ph",
        "outputId": "b7552dd9-a0de-4fd7-efb9-776f0c37676d"
      },
      "execution_count": null,
      "outputs": [
        {
          "output_type": "execute_result",
          "data": {
            "text/plain": [
              "{'abaka',\n",
              " 'adalat',\n",
              " 'afrit',\n",
              " 'afro',\n",
              " 'agas',\n",
              " 'agraria',\n",
              " 'ahi',\n",
              " 'aikido',\n",
              " 'ain',\n",
              " 'ais',\n",
              " 'alai',\n",
              " 'alalia',\n",
              " 'alang',\n",
              " 'alap',\n",
              " 'alferes',\n",
              " 'almas',\n",
              " 'amal',\n",
              " 'ameba',\n",
              " 'ameboid',\n",
              " 'amit',\n",
              " 'analog',\n",
              " 'anding',\n",
              " 'anglo',\n",
              " 'animis',\n",
              " 'animo',\n",
              " 'anting',\n",
              " 'antinovel',\n",
              " 'aperitif',\n",
              " 'apes',\n",
              " 'apolog',\n",
              " 'arak',\n",
              " 'aren',\n",
              " 'ares',\n",
              " 'asap',\n",
              " 'aspartame',\n",
              " 'asrama',\n",
              " 'atar',\n",
              " 'aubade',\n",
              " 'audiovisual',\n",
              " 'avgas',\n",
              " 'ayatollah',\n",
              " 'azan',\n",
              " 'babas',\n",
              " 'bacin',\n",
              " 'baftah',\n",
              " 'bahadur',\n",
              " 'bai',\n",
              " 'baja',\n",
              " 'balada',\n",
              " 'bales',\n",
              " 'balian',\n",
              " 'baling',\n",
              " 'balon',\n",
              " 'balun',\n",
              " 'bandel',\n",
              " 'bandos',\n",
              " 'baning',\n",
              " 'banting',\n",
              " 'barat',\n",
              " 'barbar',\n",
              " 'baret',\n",
              " 'bauk',\n",
              " 'bayong',\n",
              " 'bazar',\n",
              " 'belat',\n",
              " 'bendel',\n",
              " 'benzin',\n",
              " 'betas',\n",
              " 'beton',\n",
              " 'bhutan',\n",
              " 'bi',\n",
              " 'bimetal',\n",
              " 'biogas',\n",
              " 'biotron',\n",
              " 'blok',\n",
              " 'bobol',\n",
              " 'bohorok',\n",
              " 'boko',\n",
              " 'bol',\n",
              " 'bolos',\n",
              " 'boson',\n",
              " 'botswana',\n",
              " 'boyo',\n",
              " 'brasil',\n",
              " 'bren',\n",
              " 'bromin',\n",
              " 'bros',\n",
              " 'buat',\n",
              " 'bude',\n",
              " 'bulgaria',\n",
              " 'bulgur',\n",
              " 'bura',\n",
              " 'buras',\n",
              " 'burundi',\n",
              " 'bushido',\n",
              " 'butut',\n",
              " 'caci',\n",
              " 'cair',\n",
              " 'cakra',\n",
              " 'camping',\n",
              " 'cantel',\n",
              " 'capa',\n",
              " 'caping',\n",
              " 'caring',\n",
              " 'catur',\n",
              " 'ceding',\n",
              " 'cele',\n",
              " 'cerat',\n",
              " 'cetera',\n",
              " 'cir',\n",
              " 'cis',\n",
              " 'cuca',\n",
              " 'cuit',\n",
              " 'cun',\n",
              " 'cura',\n",
              " 'curat',\n",
              " 'dading',\n",
              " 'daftar',\n",
              " 'dalai',\n",
              " 'damar',\n",
              " 'damas',\n",
              " 'dauk',\n",
              " 'daun',\n",
              " 'debat',\n",
              " 'debug',\n",
              " 'dedal',\n",
              " 'defaitisme',\n",
              " 'deferens',\n",
              " 'dekagram',\n",
              " 'dekaliter',\n",
              " 'dekameter',\n",
              " 'dekare',\n",
              " 'demes',\n",
              " 'demo',\n",
              " 'denting',\n",
              " 'dep',\n",
              " 'deposito',\n",
              " 'detente',\n",
              " 'dewata',\n",
              " 'dia',\n",
              " 'dialog',\n",
              " 'diam',\n",
              " 'dias',\n",
              " 'digestif',\n",
              " 'diktat',\n",
              " 'dil',\n",
              " 'dirham',\n",
              " 'divisi',\n",
              " 'doa',\n",
              " 'dodos',\n",
              " 'donat',\n",
              " 'doni',\n",
              " 'dramatis',\n",
              " 'duka',\n",
              " 'dungas',\n",
              " 'dur',\n",
              " 'duramater',\n",
              " 'eco',\n",
              " 'ef',\n",
              " 'egos',\n",
              " 'elan',\n",
              " 'email',\n",
              " 'emboli',\n",
              " 'emong',\n",
              " 'employe',\n",
              " 'endometriosis',\n",
              " 'endrin',\n",
              " 'enduro',\n",
              " 'enterovirus',\n",
              " 'entre',\n",
              " 'envoi',\n",
              " 'epigon',\n",
              " 'epilog',\n",
              " 'erat',\n",
              " 'estafet',\n",
              " 'estrus',\n",
              " 'etape',\n",
              " 'etatisme',\n",
              " 'euro',\n",
              " 'fabula',\n",
              " 'fantom',\n",
              " 'farsakh',\n",
              " 'fatihah',\n",
              " 'felspar',\n",
              " 'fermion',\n",
              " 'fetis',\n",
              " 'filum',\n",
              " 'firma',\n",
              " 'fluorin',\n",
              " 'folksong',\n",
              " 'fraktur',\n",
              " 'gadis',\n",
              " 'gaga',\n",
              " 'galas',\n",
              " 'gambas',\n",
              " 'gambir',\n",
              " 'gamelan',\n",
              " 'gangsa',\n",
              " 'garau',\n",
              " 'gauk',\n",
              " 'geiger',\n",
              " 'genetika',\n",
              " 'genit',\n",
              " 'getas',\n",
              " 'gigahertz',\n",
              " 'gips',\n",
              " 'glamor',\n",
              " 'glandula',\n",
              " 'globus',\n",
              " 'gobet',\n",
              " 'gogos',\n",
              " 'gores',\n",
              " 'graf',\n",
              " 'granat',\n",
              " 'gres',\n",
              " 'gu',\n",
              " 'guam',\n",
              " 'gung',\n",
              " 'gunung',\n",
              " 'hadron',\n",
              " 'haiku',\n",
              " 'haj',\n",
              " 'haji',\n",
              " 'hajis',\n",
              " 'halte',\n",
              " 'hamzah',\n",
              " 'hang',\n",
              " 'harakiri',\n",
              " 'haram',\n",
              " 'haring',\n",
              " 'has',\n",
              " 'hasid',\n",
              " 'hektare',\n",
              " 'hektogram',\n",
              " 'hektoliter',\n",
              " 'hektometer',\n",
              " 'helipad',\n",
              " 'heng',\n",
              " 'herba',\n",
              " 'hereditas',\n",
              " 'himne',\n",
              " 'hoc',\n",
              " 'holi',\n",
              " 'hologram',\n",
              " 'homolog',\n",
              " 'horas',\n",
              " 'hore',\n",
              " 'ia',\n",
              " 'ibidem',\n",
              " 'idem',\n",
              " 'ifrit',\n",
              " 'ikan',\n",
              " 'ikebana',\n",
              " 'ikon',\n",
              " 'iman',\n",
              " 'indonesia',\n",
              " 'info',\n",
              " 'intel',\n",
              " 'intens',\n",
              " 'interferon',\n",
              " 'intro',\n",
              " 'iodin',\n",
              " 'iring',\n",
              " 'isolator',\n",
              " 'istana',\n",
              " 'jagra',\n",
              " 'jah',\n",
              " 'jalur',\n",
              " 'jambe',\n",
              " 'jambon',\n",
              " 'jambul',\n",
              " 'jangar',\n",
              " 'jebat',\n",
              " 'jingu',\n",
              " 'jizyah',\n",
              " 'judogi',\n",
              " 'judoka',\n",
              " 'juris',\n",
              " 'jus',\n",
              " 'kabar',\n",
              " 'kadi',\n",
              " 'kaftan',\n",
              " 'kain',\n",
              " 'kainit',\n",
              " 'kakas',\n",
              " 'kal',\n",
              " 'kalam',\n",
              " 'kalamkari',\n",
              " 'kalis',\n",
              " 'kam',\n",
              " 'kama',\n",
              " 'kami',\n",
              " 'kane',\n",
              " 'kantar',\n",
              " 'kaon',\n",
              " 'kapas',\n",
              " 'karat',\n",
              " 'kas',\n",
              " 'kation',\n",
              " 'kaver',\n",
              " 'kebyar',\n",
              " 'kelder',\n",
              " 'kempas',\n",
              " 'kendal',\n",
              " 'kendo',\n",
              " 'kenya',\n",
              " 'kepis',\n",
              " 'kero',\n",
              " 'kers',\n",
              " 'khayal',\n",
              " 'khi',\n",
              " 'khojah',\n",
              " 'ki',\n",
              " 'kidang',\n",
              " 'kilohertz',\n",
              " 'kismat',\n",
              " 'kiswah',\n",
              " 'kiting',\n",
              " 'kits',\n",
              " 'kokila',\n",
              " 'kopek',\n",
              " 'krans',\n",
              " 'ksi',\n",
              " 'kudus',\n",
              " 'kue',\n",
              " 'kulan',\n",
              " 'kultur',\n",
              " 'kumis',\n",
              " 'ladang',\n",
              " 'laguna',\n",
              " 'lah',\n",
              " 'lahar',\n",
              " 'laik',\n",
              " 'lakmus',\n",
              " 'laksa',\n",
              " 'laminating',\n",
              " 'lancing',\n",
              " 'lang',\n",
              " 'langka',\n",
              " 'laos',\n",
              " 'lapis',\n",
              " 'laptop',\n",
              " 'laron',\n",
              " 'latosol',\n",
              " 'lege',\n",
              " 'legong',\n",
              " 'leng',\n",
              " 'leukoderma',\n",
              " 'leukoma',\n",
              " 'leukopenia',\n",
              " 'ligan',\n",
              " 'limas',\n",
              " 'limbing',\n",
              " 'linier',\n",
              " 'lipid',\n",
              " 'lir',\n",
              " 'litoral',\n",
              " 'lobi',\n",
              " 'logis',\n",
              " 'loki',\n",
              " 'lor',\n",
              " 'lotong',\n",
              " 'lulus',\n",
              " 'lumut',\n",
              " 'lunas',\n",
              " 'mafia',\n",
              " 'mafioso',\n",
              " 'magasin',\n",
              " 'magisterium',\n",
              " 'mahal',\n",
              " 'mahbub',\n",
              " 'mair',\n",
              " 'majas',\n",
              " 'makar',\n",
              " 'makara',\n",
              " 'malam',\n",
              " 'mama',\n",
              " 'mambu',\n",
              " 'mampus',\n",
              " 'mandar',\n",
              " 'mandat',\n",
              " 'mandi',\n",
              " 'mandir',\n",
              " 'mandril',\n",
              " 'mantram',\n",
              " 'marah',\n",
              " 'maras',\n",
              " 'marga',\n",
              " 'markis',\n",
              " 'martaban',\n",
              " 'martini',\n",
              " 'maser',\n",
              " 'maulana',\n",
              " 'maut',\n",
              " 'medula',\n",
              " 'megapolis',\n",
              " 'melamin',\n",
              " 'mens',\n",
              " 'mentis',\n",
              " 'meres',\n",
              " 'mesopause',\n",
              " 'metro',\n",
              " 'midi',\n",
              " 'mikron',\n",
              " 'mini',\n",
              " 'minum',\n",
              " 'miosis',\n",
              " 'miring',\n",
              " 'miskal',\n",
              " 'miskin',\n",
              " 'mitogen',\n",
              " 'mobil',\n",
              " 'modem',\n",
              " 'modus',\n",
              " 'mol',\n",
              " 'moles',\n",
              " 'mondial',\n",
              " 'monokini',\n",
              " 'monolog',\n",
              " 'monoploid',\n",
              " 'mota',\n",
              " 'motivator',\n",
              " 'mufasal',\n",
              " 'multigravida',\n",
              " 'multimedia',\n",
              " 'multimeter',\n",
              " 'multivitamin',\n",
              " 'muon',\n",
              " 'muras',\n",
              " 'muring',\n",
              " 'muslim',\n",
              " 'mutagen',\n",
              " 'nada',\n",
              " 'naf',\n",
              " 'naib',\n",
              " 'nanas',\n",
              " 'nangka',\n",
              " 'nanogram',\n",
              " 'nanometer',\n",
              " 'natura',\n",
              " 'negara',\n",
              " 'nek',\n",
              " 'nenes',\n",
              " 'nibung',\n",
              " 'nihil',\n",
              " 'nimbostratus',\n",
              " 'nol',\n",
              " 'nomine',\n",
              " 'norit',\n",
              " 'nota',\n",
              " 'notabene',\n",
              " 'notes',\n",
              " 'novela',\n",
              " 'nus',\n",
              " 'nyala',\n",
              " 'ogonium',\n",
              " 'oke',\n",
              " 'oker',\n",
              " 'oles',\n",
              " 'oleum',\n",
              " 'omikron',\n",
              " 'oncer',\n",
              " 'opa',\n",
              " 'opsin',\n",
              " 'oratorium',\n",
              " 'ordo',\n",
              " 'origami',\n",
              " 'ovulum',\n",
              " 'pacu',\n",
              " 'padang',\n",
              " 'padri',\n",
              " 'palaka',\n",
              " 'palis',\n",
              " 'palmin',\n",
              " 'pampa',\n",
              " 'pandit',\n",
              " 'panleukopenia',\n",
              " 'panus',\n",
              " 'papas',\n",
              " 'paras',\n",
              " 'parfum',\n",
              " 'parkinson',\n",
              " 'parodi',\n",
              " 'pas',\n",
              " 'pasta',\n",
              " 'patin',\n",
              " 'patrimonium',\n",
              " 'pe',\n",
              " 'pedogenesis',\n",
              " 'pelagra',\n",
              " 'peles',\n",
              " 'penes',\n",
              " 'pengos',\n",
              " 'pensil',\n",
              " 'perai',\n",
              " 'pere',\n",
              " 'perling',\n",
              " 'pers',\n",
              " 'perseus',\n",
              " 'petaling',\n",
              " 'petrogram',\n",
              " 'piala',\n",
              " 'pias',\n",
              " 'pil',\n",
              " 'pilis',\n",
              " 'pilsener',\n",
              " 'pines',\n",
              " 'pintas',\n",
              " 'pion',\n",
              " 'pis',\n",
              " 'piton',\n",
              " 'planimeter',\n",
              " 'planing',\n",
              " 'plato',\n",
              " 'poiseuille',\n",
              " 'poles',\n",
              " 'polkadot',\n",
              " 'pons',\n",
              " 'porno',\n",
              " 'pos',\n",
              " 'positif',\n",
              " 'positronium',\n",
              " 'preman',\n",
              " 'pres',\n",
              " 'primas',\n",
              " 'proforma',\n",
              " 'prolog',\n",
              " 'proses',\n",
              " 'prostaglandin',\n",
              " 'proteid',\n",
              " 'pulas',\n",
              " 'pulik',\n",
              " 'pulsar',\n",
              " 'puri',\n",
              " 'puris',\n",
              " 'puting',\n",
              " 'qaf',\n",
              " 'qatar',\n",
              " 'radians',\n",
              " 'ragas',\n",
              " 'ragi',\n",
              " 'rakis',\n",
              " 'rankine',\n",
              " 'rawin',\n",
              " 'rayah',\n",
              " 'realpolitik',\n",
              " 'regel',\n",
              " 'rem',\n",
              " 'remet',\n",
              " 'rente',\n",
              " 'repas',\n",
              " 'restung',\n",
              " 'rimas',\n",
              " 'ringgit',\n",
              " 'ritus',\n",
              " 'ronggeng',\n",
              " 'ros',\n",
              " 'roti',\n",
              " 'rubin',\n",
              " 'rumba',\n",
              " 'saanen',\n",
              " 'sabana',\n",
              " 'sadis',\n",
              " 'sains',\n",
              " 'sakti',\n",
              " 'sala',\n",
              " 'salem',\n",
              " 'salvador',\n",
              " 'sangu',\n",
              " 'sapit',\n",
              " 'sastra',\n",
              " 'satai',\n",
              " 'satinet',\n",
              " 'satori',\n",
              " 'satyagraha',\n",
              " 'saudi',\n",
              " 'sebat',\n",
              " 'segar',\n",
              " 'sel',\n",
              " 'seling',\n",
              " 'sena',\n",
              " 'sensus',\n",
              " 'senti',\n",
              " 'sep',\n",
              " 'seraya',\n",
              " 'serimpi',\n",
              " 'sering',\n",
              " 'sewar',\n",
              " 'siring',\n",
              " 'sirop',\n",
              " 'siti',\n",
              " 'situ',\n",
              " 'skelet',\n",
              " 'skuas',\n",
              " 'solarimeter',\n",
              " 'solfatara',\n",
              " 'solider',\n",
              " 'sonder',\n",
              " 'songkok',\n",
              " 'sonogram',\n",
              " 'sorbet',\n",
              " 'spasmus',\n",
              " 'sputnik',\n",
              " 'stamba',\n",
              " 'staples',\n",
              " 'stempel',\n",
              " 'steroidal',\n",
              " 'stratopause',\n",
              " 'substrat',\n",
              " 'suci',\n",
              " 'suf',\n",
              " 'suling',\n",
              " 'sunyata',\n",
              " 'superjet',\n",
              " 'superlunar',\n",
              " 'superstar',\n",
              " 'tabel',\n",
              " 'tahar',\n",
              " 'taharah',\n",
              " 'talas',\n",
              " 'tambur',\n",
              " 'taring',\n",
              " 'tas',\n",
              " 'tasbih',\n",
              " 'tatami',\n",
              " 'tega',\n",
              " 'tel',\n",
              " 'tela',\n",
              " 'telegraf',\n",
              " 'teles',\n",
              " 'tem',\n",
              " 'temperas',\n",
              " 'tempus',\n",
              " 'tendo',\n",
              " 'tepa',\n",
              " 'tepas',\n",
              " 'ter',\n",
              " 'teres',\n",
              " 'termal',\n",
              " 'tike',\n",
              " 'timpanum',\n",
              " 'tipi',\n",
              " 'tipis',\n",
              " 'tis',\n",
              " 'titis',\n",
              " 'tombak',\n",
              " 'topas',\n",
              " 'topes',\n",
              " 'torsi',\n",
              " 'tortor',\n",
              " 'tos',\n",
              " 'totalisator',\n",
              " 'trans',\n",
              " 'tres',\n",
              " 'trimurti',\n",
              " 'trips',\n",
              " 'tunas',\n",
              " 'turbojet',\n",
              " 'uh',\n",
              " 'ulama',\n",
              " 'ulan',\n",
              " 'uni',\n",
              " 'universitas',\n",
              " 'unta',\n",
              " 'upanishad',\n",
              " 'upaya',\n",
              " 'uraemia',\n",
              " 'valium',\n",
              " 'varia',\n",
              " 'varietas',\n",
              " 'vena',\n",
              " 'veter',\n",
              " 'vide',\n",
              " 'wedel',\n",
              " 'yakitori',\n",
              " 'yantra',\n",
              " 'yoyo',\n",
              " 'yuk',\n",
              " 'zakat',\n",
              " 'zona'}"
            ]
          },
          "metadata": {},
          "execution_count": 90
        }
      ]
    }
  ]
}