{
  "nbformat": 4,
  "nbformat_minor": 0,
  "metadata": {
    "colab": {
      "provenance": []
    },
    "kernelspec": {
      "name": "python3",
      "display_name": "Python 3"
    },
    "language_info": {
      "name": "python"
    }
  },
  "cells": [
    {
      "cell_type": "markdown",
      "source": [
        "Concate the"
      ],
      "metadata": {
        "id": "UMRnCECaKjZ2"
      }
    },
    {
      "cell_type": "code",
      "execution_count": null,
      "metadata": {
        "colab": {
          "base_uri": "https://localhost:8080/"
        },
        "id": "aBRE-IImKcES",
        "outputId": "b56c5ed2-485d-4d8a-e6f6-4531d9e7ca1e"
      },
      "outputs": [
        {
          "output_type": "stream",
          "name": "stdout",
          "text": [
            "Mounted at /content/drive\n"
          ]
        }
      ],
      "source": [
        "from google.colab import drive\n",
        "drive.mount('/content/drive')"
      ]
    },
    {
      "cell_type": "code",
      "source": [
        "import pandas as pd\n",
        "import numpy as np"
      ],
      "metadata": {
        "id": "2Upj643nKgPc"
      },
      "execution_count": null,
      "outputs": []
    },
    {
      "cell_type": "code",
      "source": [
        "with open('/content/drive/MyDrive/PhD/Research/Dictionary/sorted_amb_from_dict.txt') as file:\n",
        "    dict1 = [line.rstrip() for line in file]\n",
        "with open('/content/drive/MyDrive/PhD/Research/Dictionary/sorted_amb2_from_dict.txt') as file:\n",
        "    dict2 = [line.rstrip() for line in file]\n",
        "with open('/content/drive/MyDrive/PhD/Research/Dictionary/sorted_amb3_from_dict.txt') as file:\n",
        "    dict3 = [line.rstrip() for line in file]\n",
        "with open('/content/drive/MyDrive/PhD/Research/Dictionary/sorted_amb4_from_dict.txt') as file:\n",
        "    dict4 = [line.rstrip() for line in file]"
      ],
      "metadata": {
        "id": "2kbZKvzgPfJf"
      },
      "execution_count": null,
      "outputs": []
    },
    {
      "cell_type": "code",
      "source": [
        "amb_dict = np.unique(dict1+dict2+dict3+dict4)"
      ],
      "metadata": {
        "id": "V7GTdbqkQ3he"
      },
      "execution_count": null,
      "outputs": []
    },
    {
      "cell_type": "code",
      "source": [
        "amb_dict.sort()"
      ],
      "metadata": {
        "id": "r-7CnOozRyEt"
      },
      "execution_count": null,
      "outputs": []
    },
    {
      "cell_type": "code",
      "source": [
        "with open('/content/drive/MyDrive/PhD/Research/Dictionary/sorted_amb_from_dict_full.txt', 'w') as f:\n",
        "    for line in amb_dict:\n",
        "        f.write(\"%s\\n\" % line)"
      ],
      "metadata": {
        "id": "7kaHJyAORvmw"
      },
      "execution_count": null,
      "outputs": []
    },
    {
      "cell_type": "code",
      "source": [
        "len(amb_dict)"
      ],
      "metadata": {
        "id": "f04egWwRSIt-",
        "outputId": "af34cb82-8c67-4d49-935c-b2d802cd6881",
        "colab": {
          "base_uri": "https://localhost:8080/"
        }
      },
      "execution_count": null,
      "outputs": [
        {
          "output_type": "execute_result",
          "data": {
            "text/plain": [
              "3757"
            ]
          },
          "metadata": {},
          "execution_count": 15
        }
      ]
    },
    {
      "cell_type": "code",
      "source": [
        "list2 = ['air',\n",
        "'jam',\n",
        "'cat',\n",
        "'cap',\n",
        "'main',\n",
        "'beg',\n",
        "'fail'\n",
        "]"
      ],
      "metadata": {
        "id": "gWzyqLq_fNFQ"
      },
      "execution_count": 24,
      "outputs": []
    },
    {
      "cell_type": "code",
      "source": [
        "amb_dict = np.unique(list(amb_dict)+list2)"
      ],
      "metadata": {
        "id": "I2KRvHo8fW7j"
      },
      "execution_count": 29,
      "outputs": []
    },
    {
      "cell_type": "code",
      "source": [
        "len(amb_dict)"
      ],
      "metadata": {
        "colab": {
          "base_uri": "https://localhost:8080/"
        },
        "id": "Akd8dfxsfzDY",
        "outputId": "c82f9dd2-322f-4045-a586-bfb8fbcc6f3a"
      },
      "execution_count": 30,
      "outputs": [
        {
          "output_type": "execute_result",
          "data": {
            "text/plain": [
              "3757"
            ]
          },
          "metadata": {},
          "execution_count": 30
        }
      ]
    },
    {
      "cell_type": "code",
      "source": [
        "amb_dict"
      ],
      "metadata": {
        "colab": {
          "base_uri": "https://localhost:8080/"
        },
        "id": "4lz8OddIwVay",
        "outputId": "280b0d3b-a855-4aa5-8df2-423753293ecb"
      },
      "execution_count": 31,
      "outputs": [
        {
          "output_type": "execute_result",
          "data": {
            "text/plain": [
              "array(['ABC', 'AD', 'AIDS', ..., 'zona', 'zoonosis', 'zulu'], dtype='<U16')"
            ]
          },
          "metadata": {},
          "execution_count": 31
        }
      ]
    },
    {
      "cell_type": "code",
      "source": [
        "import nltk\n",
        "nltk.download('words')\n",
        "from nltk.corpus import words"
      ],
      "metadata": {
        "colab": {
          "base_uri": "https://localhost:8080/"
        },
        "id": "kLRtdnlAxBu5",
        "outputId": "d24c4146-adac-4011-d6d2-a31144ee0edb"
      },
      "execution_count": 40,
      "outputs": [
        {
          "output_type": "stream",
          "name": "stderr",
          "text": [
            "[nltk_data] Downloading package words to /root/nltk_data...\n",
            "[nltk_data]   Package words is already up-to-date!\n"
          ]
        }
      ]
    },
    {
      "cell_type": "code",
      "source": [
        "final_amb_dict = []\n",
        "for w in amb_dict:\n",
        "      if w in words.words():\n",
        "        final_amb_dict.append(w)"
      ],
      "metadata": {
        "id": "HDG82uSSyfJz"
      },
      "execution_count": 41,
      "outputs": []
    },
    {
      "cell_type": "code",
      "source": [
        "len(final_amb_dict)"
      ],
      "metadata": {
        "colab": {
          "base_uri": "https://localhost:8080/"
        },
        "id": "A1ro8WBtys-h",
        "outputId": "8394eb43-2966-4e3f-e133-be12fc7b9fd5"
      },
      "execution_count": 42,
      "outputs": [
        {
          "output_type": "execute_result",
          "data": {
            "text/plain": [
              "2723"
            ]
          },
          "metadata": {},
          "execution_count": 42
        }
      ]
    },
    {
      "cell_type": "code",
      "source": [
        "loss = set(amb_dict) - set(final_amb_dict)"
      ],
      "metadata": {
        "id": "mlv76rlIyv9Z"
      },
      "execution_count": 46,
      "outputs": []
    },
    {
      "cell_type": "code",
      "source": [
        "len(loss)"
      ],
      "metadata": {
        "colab": {
          "base_uri": "https://localhost:8080/"
        },
        "id": "bHeQRG3A0h65",
        "outputId": "cae9d1ee-2913-4445-9b22-8e7278fdc32c"
      },
      "execution_count": 47,
      "outputs": [
        {
          "output_type": "execute_result",
          "data": {
            "text/plain": [
              "1034"
            ]
          },
          "metadata": {},
          "execution_count": 47
        }
      ]
    },
    {
      "cell_type": "code",
      "source": [
        "with open('/content/drive/MyDrive/PhD/Research/Dictionary/sorted_amb_from_dict_full_checked.txt', 'w') as f:\n",
        "    for line in amb_dict:\n",
        "        f.write(\"%s\\n\" % line)"
      ],
      "metadata": {
        "id": "-AfDrL_Py3oO"
      },
      "execution_count": 48,
      "outputs": []
    },
    {
      "cell_type": "code",
      "source": [
        "with open('/content/drive/MyDrive/PhD/Research/Dictionary/sorted_amb_from_dict_loss_checked.txt', 'w') as f:\n",
        "    for line in amb_dict:\n",
        "        f.write(\"%s\\n\" % line)"
      ],
      "metadata": {
        "id": "KAMVcyh10nF8"
      },
      "execution_count": 50,
      "outputs": []
    }
  ]
}