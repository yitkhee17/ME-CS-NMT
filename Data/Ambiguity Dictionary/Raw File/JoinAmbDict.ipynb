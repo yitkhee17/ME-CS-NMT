{
  "nbformat": 4,
  "nbformat_minor": 0,
  "metadata": {
    "colab": {
      "provenance": []
    },
    "kernelspec": {
      "name": "python3",
      "display_name": "Python 3"
    },
    "language_info": {
      "name": "python"
    }
  },
  "cells": [
    {
      "cell_type": "markdown",
      "source": [
        "Concate the"
      ],
      "metadata": {
        "id": "UMRnCECaKjZ2"
      }
    },
    {
      "cell_type": "code",
      "execution_count": 1,
      "metadata": {
        "colab": {
          "base_uri": "https://localhost:8080/"
        },
        "id": "aBRE-IImKcES",
        "outputId": "b56c5ed2-485d-4d8a-e6f6-4531d9e7ca1e"
      },
      "outputs": [
        {
          "output_type": "stream",
          "name": "stdout",
          "text": [
            "Mounted at /content/drive\n"
          ]
        }
      ],
      "source": [
        "from google.colab import drive\n",
        "drive.mount('/content/drive')"
      ]
    },
    {
      "cell_type": "code",
      "source": [
        "import pandas as pd\n",
        "import numpy as np"
      ],
      "metadata": {
        "id": "2Upj643nKgPc"
      },
      "execution_count": 2,
      "outputs": []
    },
    {
      "cell_type": "code",
      "source": [
        "with open('/content/drive/MyDrive/PhD/Research/Dictionary/sorted_amb_from_dict.txt') as file:\n",
        "    dict1 = [line.rstrip() for line in file]\n",
        "with open('/content/drive/MyDrive/PhD/Research/Dictionary/sorted_amb2_from_dict.txt') as file:\n",
        "    dict2 = [line.rstrip() for line in file]\n",
        "with open('/content/drive/MyDrive/PhD/Research/Dictionary/sorted_amb3_from_dict.txt') as file:\n",
        "    dict3 = [line.rstrip() for line in file]\n",
        "with open('/content/drive/MyDrive/PhD/Research/Dictionary/sorted_amb4_from_dict.txt') as file:\n",
        "    dict4 = [line.rstrip() for line in file]"
      ],
      "metadata": {
        "id": "2kbZKvzgPfJf"
      },
      "execution_count": 7,
      "outputs": []
    },
    {
      "cell_type": "code",
      "source": [
        "amb_dict = np.unique(dict1+dict2+dict3+dict4)"
      ],
      "metadata": {
        "id": "V7GTdbqkQ3he"
      },
      "execution_count": 11,
      "outputs": []
    },
    {
      "cell_type": "code",
      "source": [
        "amb_dict.sort()"
      ],
      "metadata": {
        "id": "r-7CnOozRyEt"
      },
      "execution_count": 13,
      "outputs": []
    },
    {
      "cell_type": "code",
      "source": [
        "with open('/content/drive/MyDrive/PhD/Research/Dictionary/sorted_amb_from_dict_full.txt', 'w') as f:\n",
        "    for line in amb_dict:\n",
        "        f.write(\"%s\\n\" % line)"
      ],
      "metadata": {
        "id": "7kaHJyAORvmw"
      },
      "execution_count": 14,
      "outputs": []
    }
  ]
}